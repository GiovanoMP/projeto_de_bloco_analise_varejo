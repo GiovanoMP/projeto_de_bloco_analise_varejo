{
 "cells": [
  {
   "cell_type": "code",
   "execution_count": 6,
   "metadata": {},
   "outputs": [
    {
     "name": "stdout",
     "output_type": "stream",
     "text": [
      "Supabase URL: https://dhadrjrzcebozlnauhqq.supabase.co\n",
      "Supabase Key: OK\n",
      "Conexão com Supabase criada com sucesso!\n",
      "Consulta realizada com sucesso!\n",
      "Dados retornados: [{'id': 1, 'created_at': '2024-10-24T18:38:20.674112+00:00', 'NumeroFatura': '536365', 'CodigoProduto': '85123A', 'Descricao': 'WHITE HANGING HEART T-LIGHT HOLDER', 'Quantidade': 6, 'DataFatura': '2010-12-01T08:26:00', 'PrecoUnitario': 2.55, 'IDCliente': '17850', 'Pais': 'United Kingdom', 'CategoriaProduto': 'Relógios e Acessórios para Viagem', 'CategoriaPreco': 'Barato', 'ValorTotalFatura': 15.3, 'FaturaUnica': False, 'Ano': 2010, 'Mes': 12, 'Dia': 1, 'DiaSemana': 2, 'SemanaAno': 48}, {'id': 2, 'created_at': '2024-10-24T18:38:20.674112+00:00', 'NumeroFatura': '536365', 'CodigoProduto': '71053', 'Descricao': 'WHITE METAL LANTERN', 'Quantidade': 6, 'DataFatura': '2010-12-01T08:26:00', 'PrecoUnitario': 3.39, 'IDCliente': '17850', 'Pais': 'United Kingdom', 'CategoriaProduto': 'Decoração e Artigos Temáticos', 'CategoriaPreco': 'Barato', 'ValorTotalFatura': 20.34, 'FaturaUnica': False, 'Ano': 2010, 'Mes': 12, 'Dia': 1, 'DiaSemana': 2, 'SemanaAno': 48}, {'id': 3, 'created_at': '2024-10-24T18:38:20.674112+00:00', 'NumeroFatura': '536365', 'CodigoProduto': '84406B', 'Descricao': 'CREAM CUPID HEARTS COAT HANGER', 'Quantidade': 8, 'DataFatura': '2010-12-01T08:26:00', 'PrecoUnitario': 2.75, 'IDCliente': '17850', 'Pais': 'United Kingdom', 'CategoriaProduto': 'Bolsas e Sacolas', 'CategoriaPreco': 'Barato', 'ValorTotalFatura': 22.0, 'FaturaUnica': False, 'Ano': 2010, 'Mes': 12, 'Dia': 1, 'DiaSemana': 2, 'SemanaAno': 48}, {'id': 4, 'created_at': '2024-10-24T18:38:20.674112+00:00', 'NumeroFatura': '536365', 'CodigoProduto': '84029G', 'Descricao': 'KNITTED UNION FLAG HOT WATER BOTTLE', 'Quantidade': 6, 'DataFatura': '2010-12-01T08:26:00', 'PrecoUnitario': 3.39, 'IDCliente': '17850', 'Pais': 'United Kingdom', 'CategoriaProduto': 'Bolsas e Sacolas', 'CategoriaPreco': 'Barato', 'ValorTotalFatura': 20.34, 'FaturaUnica': False, 'Ano': 2010, 'Mes': 12, 'Dia': 1, 'DiaSemana': 2, 'SemanaAno': 48}, {'id': 5, 'created_at': '2024-10-24T18:38:20.674112+00:00', 'NumeroFatura': '536365', 'CodigoProduto': '84029E', 'Descricao': 'RED WOOLLY HOTTIE WHITE HEART.', 'Quantidade': 6, 'DataFatura': '2010-12-01T08:26:00', 'PrecoUnitario': 3.39, 'IDCliente': '17850', 'Pais': 'United Kingdom', 'CategoriaProduto': 'Bolsas e Sacolas', 'CategoriaPreco': 'Barato', 'ValorTotalFatura': 20.34, 'FaturaUnica': False, 'Ano': 2010, 'Mes': 12, 'Dia': 1, 'DiaSemana': 2, 'SemanaAno': 48}]\n"
     ]
    }
   ],
   "source": [
    "from supabase import create_client, Client\n",
    "from dotenv import load_dotenv\n",
    "import os\n",
    "\n",
    "# Carrega o arquivo .env\n",
    "load_dotenv()\n",
    "\n",
    "# Recupera as variáveis de ambiente\n",
    "supabase_url = os.getenv(\"SUPABASE_URL\")\n",
    "supabase_key = os.getenv(\"SUPABASE_API_KEY\")\n",
    "\n",
    "# Verifica se as variáveis estão carregadas corretamente\n",
    "print(\"Supabase URL:\", supabase_url)\n",
    "print(\"Supabase Key:\", \"OK\" if supabase_key else \"MISSING\")\n",
    "\n",
    "# Cria o cliente do Supabase\n",
    "try:\n",
    "    supabase: Client = create_client(supabase_url, supabase_key)\n",
    "    print(\"Conexão com Supabase criada com sucesso!\")\n",
    "except Exception as e:\n",
    "    print(f\"Erro ao criar cliente do Supabase: {str(e)}\")\n",
    "\n",
    "# Testa uma consulta na tabela 'transactions_main'\n",
    "try:\n",
    "    response = supabase.table(\"transactions_main\").select(\"*\").limit(5).execute()\n",
    "    print(\"Consulta realizada com sucesso!\")\n",
    "    print(\"Dados retornados:\", response.data)\n",
    "except Exception as e:\n",
    "    print(f\"Erro na consulta ao Supabase: {str(e)}\")\n"
   ]
  }
 ],
 "metadata": {
  "kernelspec": {
   "display_name": ".venv",
   "language": "python",
   "name": "python3"
  },
  "language_info": {
   "codemirror_mode": {
    "name": "ipython",
    "version": 3
   },
   "file_extension": ".py",
   "mimetype": "text/x-python",
   "name": "python",
   "nbconvert_exporter": "python",
   "pygments_lexer": "ipython3",
   "version": "3.11.3"
  }
 },
 "nbformat": 4,
 "nbformat_minor": 2
}
