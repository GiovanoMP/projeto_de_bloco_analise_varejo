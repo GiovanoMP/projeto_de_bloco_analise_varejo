{
 "cells": [
  {
   "cell_type": "code",
   "execution_count": 3,
   "metadata": {},
   "outputs": [
    {
     "name": "stdout",
     "output_type": "stream",
     "text": [
      "Arquivo convertido com sucesso!\n",
      "Total de linhas: 541909\n"
     ]
    }
   ],
   "source": [
    "import os\n",
    "import pandas as pd\n",
    "\n",
    "# subir na raiz\n",
    "os.chdir('..')\n",
    "\n",
    "\n",
    "df = pd.read_excel('data/raw/Online_Retail.xlsx')\n",
    "\n",
    "\n",
    "df.to_csv('data/raw/online_retail.csv', index=False)\n",
    "\n",
    "print(\"Arquivo convertido com sucesso!\")\n",
    "print(f\"Total de linhas: {len(df)}\")"
   ]
  }
 ],
 "metadata": {
  "kernelspec": {
   "display_name": "ambiente_varejo",
   "language": "python",
   "name": "python3"
  },
  "language_info": {
   "codemirror_mode": {
    "name": "ipython",
    "version": 3
   },
   "file_extension": ".py",
   "mimetype": "text/x-python",
   "name": "python",
   "nbconvert_exporter": "python",
   "pygments_lexer": "ipython3",
   "version": "3.11.3"
  }
 },
 "nbformat": 4,
 "nbformat_minor": 2
}
